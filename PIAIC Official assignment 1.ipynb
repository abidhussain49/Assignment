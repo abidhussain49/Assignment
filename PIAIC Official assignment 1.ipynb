{
 "cells": [
  {
   "cell_type": "markdown",
   "metadata": {},
   "source": [
    "# Assignment\n",
    "### First Assignment\n",
    "### Full Name          : Abid Hussain\n",
    "### Roll No               : AIC036111\n",
    "### Teacher Name   : Dr. Noman Islam\n",
    "### Institute Name   : Saylani Head Office Bahadurabad\n",
    "### Timing                : 09:00 A.M - 12:00 P.M"
   ]
  },
  {
   "cell_type": "markdown",
   "metadata": {},
   "source": [
    "## 1. Calculate Area of a Circle"
   ]
  },
  {
   "cell_type": "markdown",
   "metadata": {},
   "source": [
    "#### Write a Python program which accepts the radius of a circle from the user and compute the area.\n",
    "###### Program Console Sample Output 1:\n",
    "###### Input Radius: 0.5\n",
    "###### Area of Circle with radius 0.5 is 0.7853981634"
   ]
  },
  {
   "cell_type": "code",
   "execution_count": 4,
   "metadata": {},
   "outputs": [
    {
     "name": "stdout",
     "output_type": "stream",
     "text": [
      "Enter Radius : 0.5\n",
      "Area of circle having radius 0.5 is 0.785398163 Unit Square\n"
     ]
    }
   ],
   "source": [
    "import math as mt\n",
    "import numpy as np\n",
    "import datetime as dt\n",
    "rad = float(input(\"Enter Radius : \"))\n",
    "area_circle = mt.pi*mt.pow(rad,2)\n",
    "print(\"Area of circle having radius\",rad,\"is\",round(area_circle,11),\"\\b\\b\\b\\b Unit Square\")"
   ]
  },
  {
   "cell_type": "code",
   "execution_count": null,
   "metadata": {},
   "outputs": [],
   "source": []
  },
  {
   "cell_type": "markdown",
   "metadata": {},
   "source": [
    "## 2. Check Number either positive, negative or zero"
   ]
  },
  {
   "cell_type": "markdown",
   "metadata": {},
   "source": [
    "#### Write a Python program to check if a number is positive, negative or zero\n",
    "###### Program Console Sample Output 1:\n",
    "###### Enter Number: -1\n",
    "##### Negative Number Entered\n",
    "###### Program Console Sample Output 2:\n",
    "##### Integer: 3\n",
    "##### Positive Number Entered\n",
    "###### Program Console Sample Output 3:\n",
    "##### Integer: 0\n",
    "###### Zero Entered"
   ]
  },
  {
   "cell_type": "code",
   "execution_count": 12,
   "metadata": {},
   "outputs": [
    {
     "name": "stdout",
     "output_type": "stream",
     "text": [
      "Enter Number : -1\n",
      "-1  is Negative\n",
      "Enter Number : 3\n",
      "3  is Positive\n",
      "Enter Number : 0\n",
      "\"0\" is Zero\n"
     ]
    }
   ],
   "source": [
    "while 1:\n",
    "    n1= int(input(\"Enter Number : \"))\n",
    "    if n1>0:\n",
    "        print(n1,\" is Positive\")\n",
    "    elif n1<0:\n",
    "        print(n1,\" is Negative\")\n",
    "    else:\n",
    "        print(\"\\\"\",n1,\"\\\" is Zero\",sep='')\n",
    "    if n1==0:\n",
    "        break"
   ]
  },
  {
   "cell_type": "code",
   "execution_count": null,
   "metadata": {},
   "outputs": [],
   "source": []
  },
  {
   "cell_type": "markdown",
   "metadata": {},
   "source": [
    "## 3. Divisibility Check of two numbers"
   ]
  },
  {
   "cell_type": "markdown",
   "metadata": {},
   "source": [
    "#### Write a Python program to check whether a number is completely divisible by another number. Accept two integer values form the user\n",
    "##### Program Console Sample Output 1:\n",
    "###### Enter numerator: 4\n",
    "###### Enter Denominator: 2\n",
    "##### Number 4 is Completely divisible by 2\n",
    "###### Program Console Sample Output 2:\n",
    "##### Enter numerator: 7\n",
    "\n",
    "##### Enter Denominator: 4\n",
    "###### Number 7 is not Completely divisible by 4"
   ]
  },
  {
   "cell_type": "code",
   "execution_count": 16,
   "metadata": {
    "scrolled": true
   },
   "outputs": [
    {
     "name": "stdout",
     "output_type": "stream",
     "text": [
      "Enter Numerator   : 192\n",
      "Enter Denominator : 8\n",
      "192 is Divisible by  8\n",
      "192 / 8 = 24.0\n"
     ]
    }
   ],
   "source": [
    "n2= int(input(\"Enter Numerator   : \"))\n",
    "n3= int(input(\"Enter Denominator : \"))\n",
    "if n2%n3==0:\n",
    "    print(n2,\"is Divisible by \",n3)\n",
    "    print(n2,\"/\",n3,\"=\",n2/n3)\n",
    "else:\n",
    "    print(n2,\"is not Divisible by \",n3)\n",
    "    "
   ]
  },
  {
   "cell_type": "code",
   "execution_count": null,
   "metadata": {},
   "outputs": [],
   "source": []
  },
  {
   "cell_type": "markdown",
   "metadata": {},
   "source": [
    "## 4. Calculate Volume of a sphere"
   ]
  },
  {
   "cell_type": "markdown",
   "metadata": {},
   "source": [
    "##### Write a Python program to get the volume of a sphere, please take the radius as input from user"
   ]
  },
  {
   "cell_type": "markdown",
   "metadata": {},
   "source": [
    "##### Program Console Output:\n",
    "##### Enter Radius of Sphere: 1\n",
    "###### Volume of the Sphere with Radius 1 is 4.18"
   ]
  },
  {
   "cell_type": "code",
   "execution_count": 18,
   "metadata": {},
   "outputs": [
    {
     "name": "stdout",
     "output_type": "stream",
     "text": [
      "Enter Radius : 1\n",
      "Volume of Sphere with radius 1.0 = 4.189\n"
     ]
    }
   ],
   "source": [
    "n5= float(input(\"Enter Radius : \"))\n",
    "v1=(4*mt.pi*n5**3)/3\n",
    "print(\"Volume of Sphere with radius\",n5,\"=\",round(v1,3))"
   ]
  },
  {
   "cell_type": "code",
   "execution_count": null,
   "metadata": {},
   "outputs": [],
   "source": []
  },
  {
   "cell_type": "markdown",
   "metadata": {},
   "source": [
    "## 5. Copy string n times\n",
    "#### Write a Python program to get a string which is n (non-negative integer) copies of a given string.\n",
    "##### Program Console Output:\n",
    "##### Enter String: Hi\n",
    "###### How many copies of String you need: 4\n",
    "###### 4 Copies of Hi are HiHiHiHi"
   ]
  },
  {
   "cell_type": "code",
   "execution_count": 24,
   "metadata": {},
   "outputs": [
    {
     "name": "stdout",
     "output_type": "stream",
     "text": [
      "Enter String : Hi\n",
      "How many Copies of string you need : 6\n",
      "6 Copies of Hi are, \n",
      "Hi Hi Hi Hi Hi Hi \n"
     ]
    }
   ],
   "source": [
    "s3 = input(\"Enter String : \")\n",
    "nt = int(input(\"How many Copies of string you need : \"))\n",
    "ss3=\"\"\n",
    "for i in range(nt):\n",
    "    ss3=ss3+s3+\" \"\n",
    "print(nt,\" Copies of \",s3,\" are, \\n\",ss3,sep='')"
   ]
  },
  {
   "cell_type": "code",
   "execution_count": null,
   "metadata": {},
   "outputs": [],
   "source": []
  },
  {
   "cell_type": "markdown",
   "metadata": {},
   "source": [
    "## 6. Check if number is Even or Odd\n",
    "### Write a Python program to find whether a given number (accept from the user) is even or odd, print out an appropriate message to the user\n",
    "#### Program Console Output 1:\n",
    "##### Enter Number: 4\n",
    "###### 4 is Even\n",
    "#### Program Console Output 2:\n",
    "##### Enter Number: 9\n",
    "###### 9 is Odd"
   ]
  },
  {
   "cell_type": "code",
   "execution_count": 25,
   "metadata": {},
   "outputs": [
    {
     "name": "stdout",
     "output_type": "stream",
     "text": [
      "Enter Number : 18\n",
      "18 is Even Number \n"
     ]
    }
   ],
   "source": [
    "n7 = int(input(\"Enter Number : \"))\n",
    "if n7%2==0:\n",
    "    print(n7,\"is Even Number \")\n",
    "else:\n",
    "    print(n7, \"is Odd Number\")"
   ]
  },
  {
   "cell_type": "code",
   "execution_count": 26,
   "metadata": {},
   "outputs": [
    {
     "name": "stdout",
     "output_type": "stream",
     "text": [
      "Enter Number : 19\n",
      "19 is Odd Number\n"
     ]
    }
   ],
   "source": [
    "n7 = int(input(\"Enter Number : \"))\n",
    "if n7%2==0:\n",
    "    print(n7,\"is Even Number \")\n",
    "else:\n",
    "    print(n7, \"is Odd Number\")"
   ]
  },
  {
   "cell_type": "code",
   "execution_count": null,
   "metadata": {},
   "outputs": [],
   "source": []
  },
  {
   "cell_type": "markdown",
   "metadata": {},
   "source": [
    "## 7. Vowel Tester\n",
    "### Write a Python program to test whether a passed letter is a vowel or not\n",
    "#### Program Console Output 1:\n",
    "##### Enter a character: A\n",
    "###### Letter A is Vowel\n",
    "#### Program Console Output 2:\n",
    "##### Enter a character: e\n",
    "###### Letter e is Vowel\n",
    "#### Program Console Output 2:\n",
    "##### Enter a character: N\n",
    "###### Letter N is not Vowel"
   ]
  },
  {
   "cell_type": "code",
   "execution_count": 28,
   "metadata": {},
   "outputs": [
    {
     "name": "stdout",
     "output_type": "stream",
     "text": [
      "Enter Character : A\n",
      "A is Vowel \n",
      "Enter Character : e\n",
      "e is Vowel \n",
      "Enter Character : N\n",
      "N is Consonant\n",
      "Enter Character : quit\n",
      "Invalid input \n"
     ]
    }
   ],
   "source": [
    "while 1:\n",
    "    c1=input(\"Enter Character : \")\n",
    "    if str.isalpha(c1) and len(c1)==1:\n",
    "        if c1.lower() in \"aeiou\":\n",
    "            print(c1,\"is Vowel \")\n",
    "        else:\n",
    "            print(c1,\"is Consonant\")\n",
    "    else:\n",
    "        print(\"Invalid input \")\n",
    "    if c1==\"quit\":\n",
    "        break"
   ]
  },
  {
   "cell_type": "code",
   "execution_count": null,
   "metadata": {},
   "outputs": [],
   "source": []
  },
  {
   "cell_type": "markdown",
   "metadata": {},
   "source": [
    "## 8. Triangle area\n",
    "### Write a Python program that will accept the base and height of a triangle and compute the area\n",
    "###### Reference:\n",
    "https://www.mathgoodies.com/lessons/vol1/area_triangle"
   ]
  },
  {
   "cell_type": "code",
   "execution_count": 29,
   "metadata": {},
   "outputs": [
    {
     "name": "stdout",
     "output_type": "stream",
     "text": [
      "Enter Base   : 8\n",
      "Enter Height : 17\n",
      "Area of triangle with base =  8.0  and Height =  17.0  is  68.0 Unit Square\n"
     ]
    }
   ],
   "source": [
    "b1 = float(input(\"Enter Base   : \"))\n",
    "h1 = float(input(\"Enter Height : \"))\n",
    "area_triangle = b1*h1/2\n",
    "print(\"Area of triangle with base = \",b1,\" and Height = \",h1,\" is \",area_triangle,\"Unit Square\")"
   ]
  },
  {
   "cell_type": "code",
   "execution_count": null,
   "metadata": {},
   "outputs": [],
   "source": []
  },
  {
   "cell_type": "markdown",
   "metadata": {},
   "source": [
    "## 9. Calculate Interest\n",
    "### Write a Python program to compute the future value of a specified principal amount, rate of interest, and a number of years\n",
    "#### Program Console Sample 1:\n",
    "##### Please enter principal amount: 10000\n",
    "###### Please Enter Rate of interest in %: 0.1\n",
    "###### Enter number of years for investment: 5\n",
    "###### After 5 years your principal amount 10000 over an interest rate of 0.1 % will be 16105.1"
   ]
  },
  {
   "cell_type": "code",
   "execution_count": 31,
   "metadata": {},
   "outputs": [
    {
     "name": "stdout",
     "output_type": "stream",
     "text": [
      "Enter Present Value : 10000\n",
      "Enter Rate of Interest in % : 10\n",
      "Enter Number of Years : 5\n",
      "Future Value of 10000.0, present value with interest of 10.0% in 5.0 years is 16105.1\n"
     ]
    }
   ],
   "source": [
    "pv=float(input(\"Enter Present Value : \"))\n",
    "roi=float(input(\"Enter Rate of Interest in % : \"))\n",
    "roi=roi/100\n",
    "noy=float(input(\"Enter Number of Years : \"))\n",
    "fv=pv*((1+roi)**noy)\n",
    "print(\"Future Value of \",pv,\", present value with interest of \",roi*100,\"%\",\" in \",noy,\" years is \",round(fv,3),sep='')"
   ]
  },
  {
   "cell_type": "code",
   "execution_count": null,
   "metadata": {},
   "outputs": [],
   "source": []
  },
  {
   "cell_type": "markdown",
   "metadata": {},
   "source": [
    "## 10. Euclidean distance\n",
    "### write a Python program to compute the distance between the points (x1, y1) and (x2, y2).\n",
    "#### Program Console Sample 1:\n",
    "###### Enter Co-ordinate for x1: 2\n",
    "###### Enter Co-ordinate for x2: 4\n",
    "###### Enter Co-ordinate for y1: 4\n",
    "###### Enter Co-ordinate for y2: 4\n",
    "###### Distance between points (2, 4) and (4, 4) is 2"
   ]
  },
  {
   "cell_type": "markdown",
   "metadata": {},
   "source": [
    "###### Reference:\n",
    "https://en.wikipedia.org/wiki/Euclidean_distance"
   ]
  },
  {
   "cell_type": "code",
   "execution_count": 32,
   "metadata": {},
   "outputs": [
    {
     "name": "stdout",
     "output_type": "stream",
     "text": [
      "Enter X1 : 2\n",
      "Enter Y1 : 4\n",
      "Enter X2 : 4\n",
      "Enter Y2 : 4\n",
      "distance between ( 2.0 , 4.0 ) and ( 4.0 , 4.0 ) =  2.0\n"
     ]
    }
   ],
   "source": [
    "x1=float(input(\"Enter X1 : \"))\n",
    "y1=float(input(\"Enter Y1 : \"))\n",
    "x2=float(input(\"Enter X2 : \"))\n",
    "y2=float(input(\"Enter Y2 : \"))\n",
    "dist = mt.sqrt((x2-x1)**2+(y2-y1)**2)\n",
    "print(\"distance between (\",x1,\",\",y1,\") and (\",x2,\",\",y2,\") = \",dist)"
   ]
  },
  {
   "cell_type": "code",
   "execution_count": null,
   "metadata": {},
   "outputs": [],
   "source": []
  },
  {
   "cell_type": "markdown",
   "metadata": {},
   "source": [
    "## 11. Feet to Centimeter Converter\n",
    "### Write a Python program to convert height in feet to centimetres.\n",
    "##### Program Console Sample 1:\n",
    "###### Enter Height in Feet: 5\n",
    "###### There are 152.4 Cm in 5 ft\n",
    "###### Reference:\n",
    "https://www.rapidtables.com/convert/length/feet-to-cm.html"
   ]
  },
  {
   "cell_type": "code",
   "execution_count": 33,
   "metadata": {},
   "outputs": [
    {
     "name": "stdout",
     "output_type": "stream",
     "text": [
      "Enter Feet   : 5\n",
      "Enter Inches : 0\n",
      "5.0  Feets, 0.0 Inches =  152.4 Centimeter\n"
     ]
    }
   ],
   "source": [
    "ft =float(input(\"Enter Feet   : \"))\n",
    "inc=float(input(\"Enter Inches : \"))\n",
    "cntmtr=(ft*12+inc)*2.54\n",
    "print(ft,\" Feets,\",inc,\"Inches = \",cntmtr,\"Centimeter\")"
   ]
  },
  {
   "cell_type": "code",
   "execution_count": null,
   "metadata": {},
   "outputs": [],
   "source": []
  },
  {
   "cell_type": "markdown",
   "metadata": {},
   "source": [
    "## 12. BMI Calculator\n",
    "### Write a Python program to calculate body mass index\n",
    "##### Program Console Sample 1:\n",
    "###### Enter Height in Cm: 180\n",
    "###### Enter Weight in Kg: 75\n",
    "###### Your BMI is 23.15"
   ]
  },
  {
   "cell_type": "code",
   "execution_count": 36,
   "metadata": {},
   "outputs": [
    {
     "name": "stdout",
     "output_type": "stream",
     "text": [
      "Enter Height in Cm   : 180\n",
      "Enter Weight in kg   : 75\n",
      "Your BMI is 23.15\n",
      "You are Normal\n"
     ]
    }
   ],
   "source": [
    "Cm= float(input(\"Enter Height in Cm   : \"))\n",
    "ht=Cm/2.54\n",
    "wt=float(input(\"Enter Weight in kg   : \"))\n",
    "wt=wt*2.20462262184878\n",
    "BMI=(wt/((ht)**2))*703\n",
    "print(\"Your BMI is\",round(BMI,2))\n",
    "if BMI<=18.5:\n",
    "    print(\"You are Under Weight\")\n",
    "elif BMI>18.5 and BMI<25:\n",
    "    print(\"You are Normal\")\n",
    "elif BMI>=25 and BMI<30:\n",
    "    print(\"You are Overweight\")\n",
    "elif BMI>=30:\n",
    "    print(\"You are Obese\")"
   ]
  },
  {
   "cell_type": "code",
   "execution_count": null,
   "metadata": {},
   "outputs": [],
   "source": []
  },
  {
   "cell_type": "markdown",
   "metadata": {},
   "source": [
    "## 13. Sum of n Positive Integers\n",
    "### Write a python program to sum of the first n positive integers\n",
    "#### Program Console Sample 1:\n",
    "###### Enter value of n: 5\n",
    "###### Sum of n Positive integers till 5 is 15"
   ]
  },
  {
   "cell_type": "code",
   "execution_count": 38,
   "metadata": {},
   "outputs": [
    {
     "name": "stdout",
     "output_type": "stream",
     "text": [
      "Enter N : 6\n",
      "Sum of 6 integers = 21\n"
     ]
    }
   ],
   "source": [
    "nnn=int(input(\"Enter N : \"))\n",
    "sm=0\n",
    "for i in range(1,nnn+1):\n",
    "    sm+=i\n",
    "print(\"Sum of\",nnn,\"integers =\",sm)"
   ]
  },
  {
   "cell_type": "code",
   "execution_count": null,
   "metadata": {},
   "outputs": [],
   "source": []
  },
  {
   "cell_type": "markdown",
   "metadata": {},
   "source": [
    "## 14. Digits Sum of a Number\n",
    "### Write a Python program to calculate the sum of the digits in an integer\n",
    "#### Program Console Sample 1:\n",
    "##### Enter a number: 15\n",
    "###### Sum of 1 + 5 is 6\n",
    "#### Program Console Sample 2:\n",
    "##### Enter a number: 1234\n",
    "###### Sum of 1 + 2 + 3 + 4 is 10"
   ]
  },
  {
   "cell_type": "code",
   "execution_count": 50,
   "metadata": {},
   "outputs": [
    {
     "name": "stdout",
     "output_type": "stream",
     "text": [
      "Enter Number : 32235\n",
      "3+2+2+3+5 = 15\n"
     ]
    }
   ],
   "source": [
    "NN= input(\"Enter Number : \")\n",
    "if str.isnumeric(NN):\n",
    "    sss=0\n",
    "    tt=\"\"\n",
    "    for i in NN:\n",
    "        sss+=int(i)\n",
    "        tt=tt+i+\"+\"\n",
    "    print(tt,\"\\b\\b =\",sss)\n",
    "else:\n",
    "    print(\"Not a Number\")"
   ]
  },
  {
   "cell_type": "code",
   "execution_count": null,
   "metadata": {},
   "outputs": [],
   "source": []
  },
  {
   "cell_type": "code",
   "execution_count": null,
   "metadata": {},
   "outputs": [],
   "source": []
  }
 ],
 "metadata": {
  "kernelspec": {
   "display_name": "Python 3",
   "language": "python",
   "name": "python3"
  },
  "language_info": {
   "codemirror_mode": {
    "name": "ipython",
    "version": 3
   },
   "file_extension": ".py",
   "mimetype": "text/x-python",
   "name": "python",
   "nbconvert_exporter": "python",
   "pygments_lexer": "ipython3",
   "version": "3.7.3"
  }
 },
 "nbformat": 4,
 "nbformat_minor": 2
}
